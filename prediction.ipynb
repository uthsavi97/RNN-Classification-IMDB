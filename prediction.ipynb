{
 "cells": [
  {
   "cell_type": "code",
   "execution_count": 1,
   "metadata": {},
   "outputs": [],
   "source": [
    "# step1 : Import libraries and load the model\n",
    "import numpy as np\n",
    "import tensorflow as tf\n",
    "from tensorflow.keras.datasets import imdb\n",
    "from tensorflow.keras.preprocessing import sequence\n",
    "from tensorflow.keras.models import load_model"
   ]
  },
  {
   "cell_type": "code",
   "execution_count": 2,
   "metadata": {},
   "outputs": [],
   "source": [
    "#load the IMDB dataset word index\n",
    "word_index = imdb.get_word_index()\n",
    "reverse_word_index = {value:key for key, value in word_index.items()}"
   ]
  },
  {
   "cell_type": "code",
   "execution_count": 3,
   "metadata": {},
   "outputs": [
    {
     "name": "stderr",
     "output_type": "stream",
     "text": [
      "WARNING:absl:Compiled the loaded model, but the compiled metrics have yet to be built. `model.compile_metrics` will be empty until you train or evaluate the model.\n"
     ]
    },
    {
     "data": {
      "text/html": [
       "<pre style=\"white-space:pre;overflow-x:auto;line-height:normal;font-family:Menlo,'DejaVu Sans Mono',consolas,'Courier New',monospace\"><span style=\"font-weight: bold\">Model: \"sequential_1\"</span>\n",
       "</pre>\n"
      ],
      "text/plain": [
       "\u001b[1mModel: \"sequential_1\"\u001b[0m\n"
      ]
     },
     "metadata": {},
     "output_type": "display_data"
    },
    {
     "data": {
      "text/html": [
       "<pre style=\"white-space:pre;overflow-x:auto;line-height:normal;font-family:Menlo,'DejaVu Sans Mono',consolas,'Courier New',monospace\">┏━━━━━━━━━━━━━━━━━━━━━━━━━━━━━━━━━┳━━━━━━━━━━━━━━━━━━━━━━━━┳━━━━━━━━━━━━━━━┓\n",
       "┃<span style=\"font-weight: bold\"> Layer (type)                    </span>┃<span style=\"font-weight: bold\"> Output Shape           </span>┃<span style=\"font-weight: bold\">       Param # </span>┃\n",
       "┡━━━━━━━━━━━━━━━━━━━━━━━━━━━━━━━━━╇━━━━━━━━━━━━━━━━━━━━━━━━╇━━━━━━━━━━━━━━━┩\n",
       "│ embedding_1 (<span style=\"color: #0087ff; text-decoration-color: #0087ff\">Embedding</span>)         │ (<span style=\"color: #00af00; text-decoration-color: #00af00\">32</span>, <span style=\"color: #00af00; text-decoration-color: #00af00\">500</span>, <span style=\"color: #00af00; text-decoration-color: #00af00\">128</span>)         │     <span style=\"color: #00af00; text-decoration-color: #00af00\">1,280,000</span> │\n",
       "├─────────────────────────────────┼────────────────────────┼───────────────┤\n",
       "│ simple_rnn_1 (<span style=\"color: #0087ff; text-decoration-color: #0087ff\">SimpleRNN</span>)        │ (<span style=\"color: #00af00; text-decoration-color: #00af00\">32</span>, <span style=\"color: #00af00; text-decoration-color: #00af00\">128</span>)              │        <span style=\"color: #00af00; text-decoration-color: #00af00\">32,896</span> │\n",
       "├─────────────────────────────────┼────────────────────────┼───────────────┤\n",
       "│ dense_1 (<span style=\"color: #0087ff; text-decoration-color: #0087ff\">Dense</span>)                 │ (<span style=\"color: #00af00; text-decoration-color: #00af00\">32</span>, <span style=\"color: #00af00; text-decoration-color: #00af00\">1</span>)                │           <span style=\"color: #00af00; text-decoration-color: #00af00\">129</span> │\n",
       "└─────────────────────────────────┴────────────────────────┴───────────────┘\n",
       "</pre>\n"
      ],
      "text/plain": [
       "┏━━━━━━━━━━━━━━━━━━━━━━━━━━━━━━━━━┳━━━━━━━━━━━━━━━━━━━━━━━━┳━━━━━━━━━━━━━━━┓\n",
       "┃\u001b[1m \u001b[0m\u001b[1mLayer (type)                   \u001b[0m\u001b[1m \u001b[0m┃\u001b[1m \u001b[0m\u001b[1mOutput Shape          \u001b[0m\u001b[1m \u001b[0m┃\u001b[1m \u001b[0m\u001b[1m      Param #\u001b[0m\u001b[1m \u001b[0m┃\n",
       "┡━━━━━━━━━━━━━━━━━━━━━━━━━━━━━━━━━╇━━━━━━━━━━━━━━━━━━━━━━━━╇━━━━━━━━━━━━━━━┩\n",
       "│ embedding_1 (\u001b[38;5;33mEmbedding\u001b[0m)         │ (\u001b[38;5;34m32\u001b[0m, \u001b[38;5;34m500\u001b[0m, \u001b[38;5;34m128\u001b[0m)         │     \u001b[38;5;34m1,280,000\u001b[0m │\n",
       "├─────────────────────────────────┼────────────────────────┼───────────────┤\n",
       "│ simple_rnn_1 (\u001b[38;5;33mSimpleRNN\u001b[0m)        │ (\u001b[38;5;34m32\u001b[0m, \u001b[38;5;34m128\u001b[0m)              │        \u001b[38;5;34m32,896\u001b[0m │\n",
       "├─────────────────────────────────┼────────────────────────┼───────────────┤\n",
       "│ dense_1 (\u001b[38;5;33mDense\u001b[0m)                 │ (\u001b[38;5;34m32\u001b[0m, \u001b[38;5;34m1\u001b[0m)                │           \u001b[38;5;34m129\u001b[0m │\n",
       "└─────────────────────────────────┴────────────────────────┴───────────────┘\n"
      ]
     },
     "metadata": {},
     "output_type": "display_data"
    },
    {
     "data": {
      "text/html": [
       "<pre style=\"white-space:pre;overflow-x:auto;line-height:normal;font-family:Menlo,'DejaVu Sans Mono',consolas,'Courier New',monospace\"><span style=\"font-weight: bold\"> Total params: </span><span style=\"color: #00af00; text-decoration-color: #00af00\">1,313,027</span> (5.01 MB)\n",
       "</pre>\n"
      ],
      "text/plain": [
       "\u001b[1m Total params: \u001b[0m\u001b[38;5;34m1,313,027\u001b[0m (5.01 MB)\n"
      ]
     },
     "metadata": {},
     "output_type": "display_data"
    },
    {
     "data": {
      "text/html": [
       "<pre style=\"white-space:pre;overflow-x:auto;line-height:normal;font-family:Menlo,'DejaVu Sans Mono',consolas,'Courier New',monospace\"><span style=\"font-weight: bold\"> Trainable params: </span><span style=\"color: #00af00; text-decoration-color: #00af00\">1,313,025</span> (5.01 MB)\n",
       "</pre>\n"
      ],
      "text/plain": [
       "\u001b[1m Trainable params: \u001b[0m\u001b[38;5;34m1,313,025\u001b[0m (5.01 MB)\n"
      ]
     },
     "metadata": {},
     "output_type": "display_data"
    },
    {
     "data": {
      "text/html": [
       "<pre style=\"white-space:pre;overflow-x:auto;line-height:normal;font-family:Menlo,'DejaVu Sans Mono',consolas,'Courier New',monospace\"><span style=\"font-weight: bold\"> Non-trainable params: </span><span style=\"color: #00af00; text-decoration-color: #00af00\">0</span> (0.00 B)\n",
       "</pre>\n"
      ],
      "text/plain": [
       "\u001b[1m Non-trainable params: \u001b[0m\u001b[38;5;34m0\u001b[0m (0.00 B)\n"
      ]
     },
     "metadata": {},
     "output_type": "display_data"
    },
    {
     "data": {
      "text/html": [
       "<pre style=\"white-space:pre;overflow-x:auto;line-height:normal;font-family:Menlo,'DejaVu Sans Mono',consolas,'Courier New',monospace\"><span style=\"font-weight: bold\"> Optimizer params: </span><span style=\"color: #00af00; text-decoration-color: #00af00\">2</span> (12.00 B)\n",
       "</pre>\n"
      ],
      "text/plain": [
       "\u001b[1m Optimizer params: \u001b[0m\u001b[38;5;34m2\u001b[0m (12.00 B)\n"
      ]
     },
     "metadata": {},
     "output_type": "display_data"
    }
   ],
   "source": [
    "# load the pre trained model with relu activation\n",
    "model = load_model('simple_rnn_imdb.h5')\n",
    "model.summary()"
   ]
  },
  {
   "cell_type": "code",
   "execution_count": 4,
   "metadata": {},
   "outputs": [
    {
     "data": {
      "text/plain": [
       "[array([[ 0.26427087,  0.30531213, -0.3892504 , ..., -0.24413316,\n",
       "         -0.25069636,  0.23583934],\n",
       "        [-0.01767675,  0.02191131,  0.01648227, ..., -0.04037479,\n",
       "          0.04029133,  0.0360995 ],\n",
       "        [ 0.01148081, -0.01202033, -0.01311242, ...,  0.03772019,\n",
       "          0.0500306 , -0.04807061],\n",
       "        ...,\n",
       "        [-0.15793413, -0.08091249,  0.06065883, ...,  0.04494329,\n",
       "          0.09755059, -0.0734947 ],\n",
       "        [ 0.0690295 , -0.0069184 , -0.07616394, ..., -0.04542943,\n",
       "         -0.03783413,  0.13907789],\n",
       "        [ 0.02022812,  0.02848004, -0.00303462, ..., -0.07136665,\n",
       "          0.08274122,  0.0097191 ]], dtype=float32),\n",
       " array([[ 0.0910207 ,  0.09992279, -0.03297503, ..., -0.06020645,\n",
       "          0.07250176,  0.10405811],\n",
       "        [ 0.06331185,  0.01341698, -0.12765379, ...,  0.02421281,\n",
       "          0.04167317,  0.0658494 ],\n",
       "        [-0.05337791,  0.03989988,  0.12094537, ...,  0.07947408,\n",
       "          0.14313494,  0.13805681],\n",
       "        ...,\n",
       "        [ 0.02112645, -0.10213963, -0.11315072, ...,  0.09579881,\n",
       "          0.11196473,  0.11908767],\n",
       "        [-0.12119698,  0.07556313, -0.04983882, ...,  0.1334177 ,\n",
       "          0.04932467,  0.05488552],\n",
       "        [-0.02615659, -0.02678846,  0.08287102, ...,  0.11677992,\n",
       "         -0.13206199, -0.13443556]], dtype=float32),\n",
       " array([[-0.02089582, -0.11662236, -0.08898345, ...,  0.0466193 ,\n",
       "          0.01302737, -0.05828824],\n",
       "        [-0.05419444, -0.09924711, -0.127403  , ..., -0.0591922 ,\n",
       "          0.03125237,  0.07309125],\n",
       "        [ 0.04792257, -0.01695145, -0.01214026, ..., -0.16469188,\n",
       "         -0.12852353,  0.10331333],\n",
       "        ...,\n",
       "        [ 0.06378896,  0.08926477, -0.03341904, ..., -0.0407537 ,\n",
       "         -0.15345903, -0.01783631],\n",
       "        [-0.0548396 ,  0.08934703, -0.06849556, ...,  0.06447446,\n",
       "          0.00636273, -0.19616713],\n",
       "        [-0.15260068, -0.06561689, -0.09736298, ..., -0.06011233,\n",
       "          0.08780377,  0.09564944]], dtype=float32),\n",
       " array([ 0.0017882 ,  0.01124273,  0.01928854,  0.01944636, -0.0097178 ,\n",
       "         0.01547371, -0.00581566,  0.00426013, -0.00836452, -0.01229247,\n",
       "         0.00828941,  0.0030893 ,  0.00123811, -0.00540142,  0.01575754,\n",
       "        -0.00803264, -0.01186135, -0.01758863,  0.00324372, -0.00986022,\n",
       "         0.0064942 ,  0.007992  , -0.02814782,  0.02129841, -0.00603308,\n",
       "         0.01524345, -0.01179133, -0.01735432,  0.02267482, -0.01738259,\n",
       "         0.01989836,  0.01902215, -0.01645109, -0.00433163,  0.01915238,\n",
       "        -0.00962067,  0.01328776,  0.00704092, -0.00651441,  0.00798613,\n",
       "         0.00365036, -0.00966883,  0.01010628,  0.00654267, -0.01368964,\n",
       "         0.00178333, -0.01563642,  0.00373451, -0.00150779, -0.01372721,\n",
       "        -0.00998717, -0.00683024, -0.00974061, -0.00668429, -0.02725453,\n",
       "         0.00845057,  0.02125687,  0.00883485, -0.00198234,  0.00556843,\n",
       "        -0.02369369, -0.00468906, -0.00260873, -0.01985399,  0.0141681 ,\n",
       "        -0.01012886,  0.00161967, -0.00015082,  0.01904161, -0.00151363,\n",
       "        -0.01386005, -0.01850326, -0.01595868, -0.01303279,  0.00455936,\n",
       "         0.00342541, -0.02079306, -0.00206655,  0.03114497, -0.01158645,\n",
       "        -0.01027991,  0.00244935,  0.00112819,  0.00492395, -0.01826224,\n",
       "        -0.00713385, -0.00591101, -0.00927418,  0.01271067,  0.01220476,\n",
       "         0.02825708,  0.02207899,  0.00643016,  0.03215374,  0.01789165,\n",
       "        -0.01851512,  0.00817131, -0.0059437 , -0.00879824, -0.0230666 ,\n",
       "         0.00580259, -0.00507791,  0.01699598, -0.0017212 ,  0.01554904,\n",
       "         0.02021812, -0.00866531, -0.00860802,  0.00544604, -0.00890543,\n",
       "         0.00056911,  0.01287797, -0.01665274, -0.00553223, -0.00873308,\n",
       "        -0.00381878, -0.00336436,  0.00327153, -0.00588115,  0.00906983,\n",
       "        -0.01315681,  0.00389613, -0.00554739,  0.02924538,  0.02475911,\n",
       "        -0.01276041,  0.00699198,  0.0068191 ], dtype=float32),\n",
       " array([[ 0.19066   ],\n",
       "        [-0.11082839],\n",
       "        [-0.20672703],\n",
       "        [-0.20841353],\n",
       "        [ 0.53415394],\n",
       "        [ 0.02019356],\n",
       "        [ 0.4007591 ],\n",
       "        [ 0.08802133],\n",
       "        [ 0.20106891],\n",
       "        [ 0.44723368],\n",
       "        [ 0.20493634],\n",
       "        [-0.07583174],\n",
       "        [ 0.20207287],\n",
       "        [-0.03050399],\n",
       "        [ 0.1965665 ],\n",
       "        [ 1.5121113 ],\n",
       "        [-0.08552425],\n",
       "        [-0.07988414],\n",
       "        [-1.5334964 ],\n",
       "        [ 0.00692758],\n",
       "        [-0.0137547 ],\n",
       "        [ 0.17413521],\n",
       "        [-0.08387488],\n",
       "        [-0.07319573],\n",
       "        [-0.11926491],\n",
       "        [-1.6676751 ],\n",
       "        [ 0.648522  ],\n",
       "        [ 0.14039612],\n",
       "        [-0.19896002],\n",
       "        [ 0.07454915],\n",
       "        [-0.19949128],\n",
       "        [-0.05881984],\n",
       "        [ 0.01785016],\n",
       "        [ 0.10690559],\n",
       "        [ 0.19609484],\n",
       "        [ 0.11274112],\n",
       "        [ 0.04722093],\n",
       "        [ 0.48155499],\n",
       "        [-1.8118696 ],\n",
       "        [ 0.09092503],\n",
       "        [ 0.6406769 ],\n",
       "        [ 1.2891607 ],\n",
       "        [-0.10784569],\n",
       "        [-0.08395366],\n",
       "        [ 0.52451307],\n",
       "        [-0.16529354],\n",
       "        [ 1.309816  ],\n",
       "        [-0.04194113],\n",
       "        [ 0.06431631],\n",
       "        [ 0.08960586],\n",
       "        [-0.11609183],\n",
       "        [-0.14749333],\n",
       "        [ 0.16452797],\n",
       "        [ 0.12164184],\n",
       "        [ 0.08328227],\n",
       "        [ 0.60731864],\n",
       "        [-0.11608113],\n",
       "        [-0.04826161],\n",
       "        [ 0.06918008],\n",
       "        [-0.00919559],\n",
       "        [ 0.04764307],\n",
       "        [-0.02952458],\n",
       "        [ 0.22301294],\n",
       "        [ 0.17770782],\n",
       "        [-1.912071  ],\n",
       "        [-0.08793133],\n",
       "        [ 0.15867372],\n",
       "        [-0.11524256],\n",
       "        [-0.06267682],\n",
       "        [ 0.01516441],\n",
       "        [-0.10960576],\n",
       "        [ 0.95300096],\n",
       "        [ 0.17308283],\n",
       "        [ 0.10059761],\n",
       "        [ 0.4611054 ],\n",
       "        [-0.12356441],\n",
       "        [-0.02642804],\n",
       "        [ 0.13737357],\n",
       "        [-0.11267338],\n",
       "        [-0.11474358],\n",
       "        [ 0.08410808],\n",
       "        [-0.13393173],\n",
       "        [ 0.10518858],\n",
       "        [-0.03843845],\n",
       "        [-0.00907095],\n",
       "        [ 0.1946406 ],\n",
       "        [ 0.17671153],\n",
       "        [-0.13264066],\n",
       "        [-0.07341839],\n",
       "        [-0.13101205],\n",
       "        [-0.23063481],\n",
       "        [-0.14255494],\n",
       "        [-0.04951597],\n",
       "        [-0.2336371 ],\n",
       "        [-0.08239459],\n",
       "        [ 0.08449341],\n",
       "        [ 0.08803511],\n",
       "        [ 0.23290965],\n",
       "        [ 0.15081595],\n",
       "        [ 0.06013369],\n",
       "        [-0.02475592],\n",
       "        [-0.05152387],\n",
       "        [-0.04962981],\n",
       "        [ 0.01349652],\n",
       "        [-0.19637345],\n",
       "        [-0.15690766],\n",
       "        [ 0.68799126],\n",
       "        [-0.11515166],\n",
       "        [-0.2140315 ],\n",
       "        [-0.18664679],\n",
       "        [-0.1052818 ],\n",
       "        [-0.19625273],\n",
       "        [-0.07999224],\n",
       "        [ 0.19277322],\n",
       "        [ 0.1511576 ],\n",
       "        [ 0.21228833],\n",
       "        [ 0.16449568],\n",
       "        [ 0.15803689],\n",
       "        [ 0.05083266],\n",
       "        [ 0.00737809],\n",
       "        [-0.07494281],\n",
       "        [-0.03566678],\n",
       "        [ 0.20310573],\n",
       "        [-0.0998436 ],\n",
       "        [-0.08121903],\n",
       "        [-0.22737798],\n",
       "        [ 0.20771791],\n",
       "        [-0.0077397 ]], dtype=float32),\n",
       " array([0.16038193], dtype=float32)]"
      ]
     },
     "execution_count": 4,
     "metadata": {},
     "output_type": "execute_result"
    }
   ],
   "source": [
    "model.get_weights()"
   ]
  },
  {
   "cell_type": "code",
   "execution_count": 5,
   "metadata": {},
   "outputs": [],
   "source": [
    "# step2:helper functions\n",
    "# function to decode reviews\n",
    "def decode_review(encoded_review):\n",
    "    return ' '.join([reverse_word_index.get(i - 3,'?') for i in encoded_review])\n",
    "\n",
    "# function to preprocess user input\n",
    "def preprocess_text(text):\n",
    "    words = text.lower().split()\n",
    "    encoded_review = [word_index.get(word,2)+3 for word in words]\n",
    "    padded_review = sequence.pad_sequences([encoded_review],maxlen=500)\n",
    "    return padded_review"
   ]
  },
  {
   "cell_type": "code",
   "execution_count": 6,
   "metadata": {},
   "outputs": [],
   "source": [
    "## prediction function\n",
    "\n",
    "def predict_sentiment(review):\n",
    "    preprocessed_input=preprocess_text(review)\n",
    "\n",
    "    prediction=model.predict(preprocessed_input)\n",
    "\n",
    "    sentiment = 'Positive' if prediction[0][0] > 0.5 else 'Negative'\n",
    "\n",
    "    return sentiment, prediction[0][0]"
   ]
  },
  {
   "cell_type": "code",
   "execution_count": 7,
   "metadata": {},
   "outputs": [
    {
     "name": "stdout",
     "output_type": "stream",
     "text": [
      "\u001b[1m1/1\u001b[0m \u001b[32m━━━━━━━━━━━━━━━━━━━━\u001b[0m\u001b[37m\u001b[0m \u001b[1m0s\u001b[0m 254ms/step\n",
      "Review: This movie was fantastic! the acting was great and the plot was thrilling.\n",
      "Sentiment: Positive\n",
      "Prediction Score: 0.5301995277404785\n"
     ]
    }
   ],
   "source": [
    "# step 4 : user input and prediction\n",
    "# example review for prediction\n",
    "\n",
    "example_review = \"This movie was fantastic! the acting was great and the plot was thrilling.\"\n",
    "\n",
    "sentiment,score=predict_sentiment(example_review)\n",
    "\n",
    "print(f'Review: {example_review}')\n",
    "print(f'Sentiment: {sentiment}')\n",
    "print(f'Prediction Score: {score}')"
   ]
  },
  {
   "cell_type": "code",
   "execution_count": null,
   "metadata": {},
   "outputs": [],
   "source": []
  }
 ],
 "metadata": {
  "kernelspec": {
   "display_name": "imdb",
   "language": "python",
   "name": "python3"
  },
  "language_info": {
   "codemirror_mode": {
    "name": "ipython",
    "version": 3
   },
   "file_extension": ".py",
   "mimetype": "text/x-python",
   "name": "python",
   "nbconvert_exporter": "python",
   "pygments_lexer": "ipython3",
   "version": "3.12.7"
  }
 },
 "nbformat": 4,
 "nbformat_minor": 2
}
